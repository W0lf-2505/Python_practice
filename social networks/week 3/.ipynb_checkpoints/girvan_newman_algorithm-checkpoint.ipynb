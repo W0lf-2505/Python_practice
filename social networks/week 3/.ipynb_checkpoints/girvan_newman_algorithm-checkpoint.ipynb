{
 "cells": [
  {
   "cell_type": "code",
   "execution_count": 1,
   "id": "84aa7454-365f-43b7-851a-402bc023d7a1",
   "metadata": {},
   "outputs": [],
   "source": [
    "import networkx as nx"
   ]
  },
  {
   "cell_type": "code",
   "execution_count": 2,
   "id": "af24a19e-d520-4fa9-8ff4-071aa777232d",
   "metadata": {},
   "outputs": [],
   "source": [
    "G = nx.barbell_graph(5,0)"
   ]
  },
  {
   "cell_type": "code",
   "execution_count": 3,
   "id": "2276cee0-cc14-4267-9260-2e8f048da078",
   "metadata": {},
   "outputs": [],
   "source": [
    "import girvan"
   ]
  },
  {
   "cell_type": "code",
   "execution_count": 4,
   "id": "06e1cd68-5c5d-4d5d-9846-d15b7b09b5f7",
   "metadata": {},
   "outputs": [
    {
     "name": "stdout",
     "output_type": "stream",
     "text": [
      "<generator object girvan.<locals>.<genexpr> at 0x7fa31e7fcf20>\n"
     ]
    },
    {
     "ename": "TypeError",
     "evalue": "object of type 'generator' has no len()",
     "output_type": "error",
     "traceback": [
      "\u001b[0;31m---------------------------------------------------------------------------\u001b[0m",
      "\u001b[0;31mTypeError\u001b[0m                                 Traceback (most recent call last)",
      "Cell \u001b[0;32mIn[4], line 1\u001b[0m\n\u001b[0;32m----> 1\u001b[0m c \u001b[38;5;241m=\u001b[39m \u001b[43mgirvan\u001b[49m\u001b[38;5;241;43m.\u001b[39;49m\u001b[43mgirvan\u001b[49m\u001b[43m(\u001b[49m\u001b[43mG\u001b[49m\u001b[43m)\u001b[49m\n",
      "File \u001b[0;32m~/Python_practice/social networks/week 3/girvan.py:12\u001b[0m, in \u001b[0;36mgirvan\u001b[0;34m(G)\u001b[0m\n\u001b[1;32m     10\u001b[0m c \u001b[38;5;241m=\u001b[39m (G\u001b[38;5;241m.\u001b[39msubgraph(c) \u001b[38;5;28;01mfor\u001b[39;00m c \u001b[38;5;129;01min\u001b[39;00m nx\u001b[38;5;241m.\u001b[39mconnected_components(G))\n\u001b[1;32m     11\u001b[0m \u001b[38;5;28mprint\u001b[39m(c)\n\u001b[0;32m---> 12\u001b[0m l \u001b[38;5;241m=\u001b[39m \u001b[38;5;28;43mlen\u001b[39;49m\u001b[43m(\u001b[49m\u001b[43mc\u001b[49m\u001b[43m)\u001b[49m\n\u001b[1;32m     13\u001b[0m \u001b[38;5;28mprint\u001b[39m(\u001b[38;5;124m'\u001b[39m\u001b[38;5;124mThe number of connected components are \u001b[39m\u001b[38;5;124m'\u001b[39m, l)\n\u001b[1;32m     15\u001b[0m \u001b[38;5;28;01mwhile\u001b[39;00m(l\u001b[38;5;241m==\u001b[39m\u001b[38;5;241m1\u001b[39m):\n",
      "\u001b[0;31mTypeError\u001b[0m: object of type 'generator' has no len()"
     ]
    }
   ],
   "source": [
    "c = girvan.girvan(G)\n",
    "print(c)"
   ]
  },
  {
   "cell_type": "code",
   "execution_count": null,
   "id": "ea182adf-3337-43a4-95ee-a9825635a721",
   "metadata": {},
   "outputs": [],
   "source": []
  }
 ],
 "metadata": {
  "kernelspec": {
   "display_name": "Python 3 (ipykernel)",
   "language": "python",
   "name": "python3"
  },
  "language_info": {
   "codemirror_mode": {
    "name": "ipython",
    "version": 3
   },
   "file_extension": ".py",
   "mimetype": "text/x-python",
   "name": "python",
   "nbconvert_exporter": "python",
   "pygments_lexer": "ipython3",
   "version": "3.12.8"
  }
 },
 "nbformat": 4,
 "nbformat_minor": 5
}
