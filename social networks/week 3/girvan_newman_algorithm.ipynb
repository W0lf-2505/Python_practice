{
 "cells": [
  {
   "cell_type": "code",
   "execution_count": 1,
   "id": "84aa7454-365f-43b7-851a-402bc023d7a1",
   "metadata": {},
   "outputs": [],
   "source": [
    "import networkx as nx"
   ]
  },
  {
   "cell_type": "code",
   "execution_count": 2,
   "id": "af24a19e-d520-4fa9-8ff4-071aa777232d",
   "metadata": {},
   "outputs": [],
   "source": [
    "G = nx.barbell_graph(5,0)"
   ]
  },
  {
   "cell_type": "code",
   "execution_count": 3,
   "id": "2276cee0-cc14-4267-9260-2e8f048da078",
   "metadata": {},
   "outputs": [],
   "source": [
    "import girvan"
   ]
  },
  {
   "cell_type": "code",
   "execution_count": 4,
   "id": "06e1cd68-5c5d-4d5d-9846-d15b7b09b5f7",
   "metadata": {},
   "outputs": [
    {
     "name": "stdout",
     "output_type": "stream",
     "text": [
      "<generator object girvan.<locals>.<genexpr> at 0x7f7625ff4f20>\n"
     ]
    }
   ],
   "source": [
    "c = girvan.girvan(G)\n",
    "print(c)"
   ]
  },
  {
   "cell_type": "code",
   "execution_count": null,
   "id": "ea182adf-3337-43a4-95ee-a9825635a721",
   "metadata": {},
   "outputs": [],
   "source": []
  }
 ],
 "metadata": {
  "kernelspec": {
   "display_name": "Python 3 (ipykernel)",
   "language": "python",
   "name": "python3"
  },
  "language_info": {
   "codemirror_mode": {
    "name": "ipython",
    "version": 3
   },
   "file_extension": ".py",
   "mimetype": "text/x-python",
   "name": "python",
   "nbconvert_exporter": "python",
   "pygments_lexer": "ipython3",
   "version": "3.12.8"
  }
 },
 "nbformat": 4,
 "nbformat_minor": 5
}
